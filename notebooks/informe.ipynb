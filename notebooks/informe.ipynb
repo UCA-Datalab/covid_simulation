{
 "cells": [
  {
   "cell_type": "markdown",
   "metadata": {},
   "source": [
    "# Objetivos\n",
    "Para datos de ingresos hospitalarios acumulados. Por cada provincia (y por el total de Andalucía):\n",
    "1. Error relativo en función del número de puntos que se han tomado. (Ver David GG en Zappa).\n",
    "2. Sobre el modelo que prediga mejor (en general). Puntos que se usan para predicción en un color, puntos que se predicen en otro. Visualizamos los puntos y la predicción. Añadir la curva del ajuste.\n",
    "3. Otra gráfica usando todos los puntos para la predicción (a futuro). Devolver la lista de valores fecha - cantidad de ingresados.\n",
    "4. ¿Ingresos diarios? Derivar la curva (cdf, pdf)."
   ]
  },
  {
   "cell_type": "code",
   "execution_count": 1,
   "metadata": {},
   "outputs": [],
   "source": [
    "import matplotlib.pyplot as plt\n",
    "import pandas as pd\n",
    "import sys\n",
    "\n",
    "sys.path.insert(0, \"../src\")\n",
    "\n",
    "from preprocessing.andalucia import preprocess_andalucia\n",
    "from prediction.fit import temporal_validation_metric\n",
    "from prediction.models import *"
   ]
  },
  {
   "cell_type": "code",
   "execution_count": 2,
   "metadata": {
    "scrolled": false
   },
   "outputs": [
    {
     "data": {
      "text/html": [
       "<div>\n",
       "<style scoped>\n",
       "    .dataframe tbody tr th:only-of-type {\n",
       "        vertical-align: middle;\n",
       "    }\n",
       "\n",
       "    .dataframe tbody tr th {\n",
       "        vertical-align: top;\n",
       "    }\n",
       "\n",
       "    .dataframe thead th {\n",
       "        text-align: right;\n",
       "    }\n",
       "</style>\n",
       "<table border=\"1\" class=\"dataframe\">\n",
       "  <thead>\n",
       "    <tr style=\"text-align: right;\">\n",
       "      <th></th>\n",
       "      <th>region</th>\n",
       "      <th>resultado</th>\n",
       "      <th>ingreso</th>\n",
       "      <th>uci</th>\n",
       "      <th>defuncion</th>\n",
       "      <th>curado</th>\n",
       "    </tr>\n",
       "    <tr>\n",
       "      <th>dia</th>\n",
       "      <th></th>\n",
       "      <th></th>\n",
       "      <th></th>\n",
       "      <th></th>\n",
       "      <th></th>\n",
       "      <th></th>\n",
       "    </tr>\n",
       "  </thead>\n",
       "  <tbody>\n",
       "    <tr>\n",
       "      <th>2020-03-14</th>\n",
       "      <td>almeria</td>\n",
       "      <td>14</td>\n",
       "      <td>0</td>\n",
       "      <td>0</td>\n",
       "      <td>0</td>\n",
       "      <td>0</td>\n",
       "    </tr>\n",
       "    <tr>\n",
       "      <th>2020-03-15</th>\n",
       "      <td>almeria</td>\n",
       "      <td>14</td>\n",
       "      <td>1</td>\n",
       "      <td>0</td>\n",
       "      <td>0</td>\n",
       "      <td>0</td>\n",
       "    </tr>\n",
       "    <tr>\n",
       "      <th>2020-03-16</th>\n",
       "      <td>almeria</td>\n",
       "      <td>23</td>\n",
       "      <td>1</td>\n",
       "      <td>1</td>\n",
       "      <td>0</td>\n",
       "      <td>0</td>\n",
       "    </tr>\n",
       "    <tr>\n",
       "      <th>2020-03-17</th>\n",
       "      <td>almeria</td>\n",
       "      <td>26</td>\n",
       "      <td>3</td>\n",
       "      <td>0</td>\n",
       "      <td>0</td>\n",
       "      <td>0</td>\n",
       "    </tr>\n",
       "    <tr>\n",
       "      <th>2020-03-18</th>\n",
       "      <td>almeria</td>\n",
       "      <td>30</td>\n",
       "      <td>3</td>\n",
       "      <td>0</td>\n",
       "      <td>0</td>\n",
       "      <td>0</td>\n",
       "    </tr>\n",
       "    <tr>\n",
       "      <th>...</th>\n",
       "      <td>...</td>\n",
       "      <td>...</td>\n",
       "      <td>...</td>\n",
       "      <td>...</td>\n",
       "      <td>...</td>\n",
       "      <td>...</td>\n",
       "    </tr>\n",
       "    <tr>\n",
       "      <th>2020-04-04</th>\n",
       "      <td>sevilla</td>\n",
       "      <td>1535</td>\n",
       "      <td>712</td>\n",
       "      <td>68</td>\n",
       "      <td>75</td>\n",
       "      <td>53</td>\n",
       "    </tr>\n",
       "    <tr>\n",
       "      <th>2020-04-05</th>\n",
       "      <td>sevilla</td>\n",
       "      <td>1602</td>\n",
       "      <td>747</td>\n",
       "      <td>100</td>\n",
       "      <td>93</td>\n",
       "      <td>82</td>\n",
       "    </tr>\n",
       "    <tr>\n",
       "      <th>2020-04-06</th>\n",
       "      <td>sevilla</td>\n",
       "      <td>1663</td>\n",
       "      <td>778</td>\n",
       "      <td>101</td>\n",
       "      <td>97</td>\n",
       "      <td>95</td>\n",
       "    </tr>\n",
       "    <tr>\n",
       "      <th>2020-04-07</th>\n",
       "      <td>sevilla</td>\n",
       "      <td>1713</td>\n",
       "      <td>811</td>\n",
       "      <td>104</td>\n",
       "      <td>112</td>\n",
       "      <td>105</td>\n",
       "    </tr>\n",
       "    <tr>\n",
       "      <th>2020-04-08</th>\n",
       "      <td>sevilla</td>\n",
       "      <td>1757</td>\n",
       "      <td>836</td>\n",
       "      <td>109</td>\n",
       "      <td>131</td>\n",
       "      <td>158</td>\n",
       "    </tr>\n",
       "  </tbody>\n",
       "</table>\n",
       "<p>234 rows × 6 columns</p>\n",
       "</div>"
      ],
      "text/plain": [
       "               region  resultado  ingreso  uci  defuncion  curado\n",
       "dia                                                            \n",
       "2020-03-14  almeria         14        0    0          0       0\n",
       "2020-03-15  almeria         14        1    0          0       0\n",
       "2020-03-16  almeria         23        1    1          0       0\n",
       "2020-03-17  almeria         26        3    0          0       0\n",
       "2020-03-18  almeria         30        3    0          0       0\n",
       "...             ...        ...      ...  ...        ...     ...\n",
       "2020-04-04  sevilla       1535      712   68         75      53\n",
       "2020-04-05  sevilla       1602      747  100         93      82\n",
       "2020-04-06  sevilla       1663      778  101         97      95\n",
       "2020-04-07  sevilla       1713      811  104        112     105\n",
       "2020-04-08  sevilla       1757      836  109        131     158\n",
       "\n",
       "[234 rows x 6 columns]"
      ]
     },
     "execution_count": 2,
     "metadata": {},
     "output_type": "execute_result"
    }
   ],
   "source": [
    "# Andalucia data\n",
    "path = \"../data/series_provincias_andalucia.csv\"\n",
    "dataset = pd.read_csv(path)\n",
    "dataset = preprocess_andalucia(dataset)\n",
    "\n",
    "dataset"
   ]
  },
  {
   "cell_type": "code",
   "execution_count": 4,
   "metadata": {},
   "outputs": [],
   "source": [
    "region = \"andalucia\"\n",
    "mask_region = dataset[\"region\"] == region\n",
    "\n",
    "y = dataset.loc[mask_region, \"ingreso\"].values\n",
    "x = dataset.loc[mask_region].index.values"
   ]
  },
  {
   "cell_type": "code",
   "execution_count": 5,
   "metadata": {},
   "outputs": [
    {
     "name": "stderr",
     "output_type": "stream",
     "text": [
      "/home/daniprec/.local/lib/python3.7/site-packages/scipy/optimize/minpack.py:808: OptimizeWarning: Covariance of the parameters could not be estimated\n",
      "  category=OptimizeWarning)\n",
      "../src/prediction/models.py:55: RuntimeWarning: overflow encountered in exp\n",
      "  y = (A * np.exp(-np.exp(((u / A) * (d - x)) + 1))) + y0\n",
      "../src/prediction/models.py:74: RuntimeWarning: overflow encountered in exp\n",
      "  y = a * np.exp(b * x) + c\n"
     ]
    },
    {
     "data": {
      "image/png": "[encoded data removed]",
      "text/plain": [
       "<Figure size 600x400 with 1 Axes>"
      ]
     },
     "metadata": {
      "needs_background": "light"
     },
     "output_type": "display_data"
    }
   ],
   "source": [
    "plt.figure(dpi=100)\n",
    "for model, params in dic_models.items():\n",
    "    metric_agg = temporal_validation_metric(eval(model),\n",
    "                                            x, y,\n",
    "                                            val_size=5, min_train_size=10,\n",
    "                                            params0=None, plot=True)"
   ]
  },
  {
   "cell_type": "code",
   "execution_count": null,
   "metadata": {},
   "outputs": [],
   "source": []
  }
 ],
 "metadata": {
  "kernelspec": {
   "display_name": "COVID-19",
   "language": "python",
   "name": "covid-19"
  },
  "language_info": {
   "codemirror_mode": {
    "name": "ipython",
    "version": 3
   },
   "file_extension": ".py",
   "mimetype": "text/x-python",
   "name": "python",
   "nbconvert_exporter": "python",
   "pygments_lexer": "ipython3",
   "version": "3.7.7"
  }
 },
 "nbformat": 4,
 "nbformat_minor": 2
}
