{
 "cells": [
  {
   "cell_type": "markdown",
   "metadata": {
    "toc": true
   },
   "source": [
    "<h1>Table of Contents<span class=\"tocSkip\"></span></h1>\n",
    "<div class=\"toc\"><ul class=\"toc-item\"><li><span><a href=\"#testing\" data-toc-modified-id=\"testing-1\"><span class=\"toc-item-num\">1&nbsp;&nbsp;</span>testing</a></span></li></ul></div>"
   ]
  },
  {
   "cell_type": "code",
   "execution_count": 1,
   "metadata": {
    "ExecuteTime": {
     "end_time": "2020-04-09T22:16:07.170480Z",
     "start_time": "2020-04-09T22:16:07.116197Z"
    }
   },
   "outputs": [],
   "source": [
    "%load_ext autoreload\n",
    "%autoreload 2"
   ]
  },
  {
   "cell_type": "markdown",
   "metadata": {},
   "source": [
    "## testing"
   ]
  },
  {
   "cell_type": "code",
   "execution_count": 2,
   "metadata": {
    "ExecuteTime": {
     "end_time": "2020-04-09T22:16:07.661119Z",
     "start_time": "2020-04-09T22:16:07.174810Z"
    }
   },
   "outputs": [],
   "source": [
    "import numpy as np\n",
    "import sys\n",
    "sys.path.append('..')"
   ]
  },
  {
   "cell_type": "code",
   "execution_count": 3,
   "metadata": {
    "ExecuteTime": {
     "end_time": "2020-04-09T22:16:07.711196Z",
     "start_time": "2020-04-09T22:16:07.672309Z"
    }
   },
   "outputs": [],
   "source": [
    "from covid_simulation.simulation.sim_filling import simulate_bed_filling\n",
    "from covid_simulation.simulation.sampling import propagate_times_hospital\n",
    "from covid_simulation.simulation.sampling import noise_on_cases\n",
    "from covid_simulation.simulation.sampling import noise_on_times\n",
    "from covid_simulation.simulation.utils import from_counts_to_times\n"
   ]
  },
  {
   "cell_type": "code",
   "execution_count": 5,
   "metadata": {
    "ExecuteTime": {
     "end_time": "2020-04-09T23:33:07.403846Z",
     "start_time": "2020-04-09T23:33:07.313931Z"
    }
   },
   "outputs": [],
   "source": [
    "from covid_simulation.simulation.utils import from_person_to_daily"
   ]
  },
  {
   "cell_type": "code",
   "execution_count": 6,
   "metadata": {
    "ExecuteTime": {
     "end_time": "2020-04-09T22:38:12.065078Z",
     "start_time": "2020-04-09T22:38:12.035967Z"
    }
   },
   "outputs": [],
   "source": [
    "from covid_simulation.simulation.sim_filling import simulate_bed_filling_1d"
   ]
  },
  {
   "cell_type": "code",
   "execution_count": 7,
   "metadata": {
    "ExecuteTime": {
     "end_time": "2020-04-09T23:38:09.627941Z",
     "start_time": "2020-04-09T23:37:47.096090Z"
    }
   },
   "outputs": [
    {
     "name": "stderr",
     "output_type": "stream",
     "text": [
      "100%|██████████| 500/500 [00:01<00:00, 314.92it/s]\n"
     ]
    }
   ],
   "source": [
    "x = np.arange(0, 20, 1)\n",
    "y = np.random.randint(100, 300, size=x.shape).cumsum()\n",
    "\n",
    "# print(f\"Numero total pacientes {y[-1]}\")\n",
    "\n",
    "MAX_BEDS_HOSP = 5000\n",
    "MAX_BEDS_UCI = 200\n",
    "NRUNS = 500\n",
    "\n",
    "y_noise = noise_on_cases(y, nruns=NRUNS)\n",
    "times = from_counts_to_times(x, y_noise)\n",
    "times = noise_on_times(times)\n",
    "\n",
    "y_times_hosp_in, y_times_hosp_out, y_times_uci_in, y_times_uci_out = propagate_times_hospital(\n",
    "    times)\n",
    "\n",
    "uci_in, uci_out, uci_active = simulate_bed_filling(x,\n",
    "                                                   y_times_uci_in,\n",
    "                                                   y_times_uci_out,\n",
    "                                                   beds_max=MAX_BEDS_UCI,\n",
    "                                                   verbose=False,\n",
    "                                                   try_vectorize=False)\n",
    "\n",
    "hosp_in, hosp_out, hosp_active = simulate_bed_filling(x,\n",
    "                                                      y_times_hosp_in,\n",
    "                                                      y_times_hosp_out,\n",
    "                                                      beds_max=MAX_BEDS_HOSP,\n",
    "                                                      verbose=True,\n",
    "                                                      try_vectorize=False)"
   ]
  },
  {
   "cell_type": "code",
   "execution_count": 9,
   "metadata": {
    "ExecuteTime": {
     "end_time": "2020-04-09T23:38:15.268325Z",
     "start_time": "2020-04-09T23:38:15.234860Z"
    }
   },
   "outputs": [],
   "source": [
    "from covid_simulation.noise.noise import get_quantiles"
   ]
  },
  {
   "cell_type": "code",
   "execution_count": 10,
   "metadata": {
    "ExecuteTime": {
     "end_time": "2020-04-10T00:27:14.807373Z",
     "start_time": "2020-04-10T00:27:14.760289Z"
    }
   },
   "outputs": [
    {
     "data": {
      "text/plain": [
       "array([ 0. ,  0.5,  1. ,  1.5,  2. ,  2.5,  3. ,  3.5,  4. ,  4.5,  5. ,\n",
       "        5.5,  6. ,  6.5,  7. ,  7.5,  8. ,  8.5,  9. ,  9.5, 10. , 10.5,\n",
       "       11. , 11.5, 12. , 12.5, 13. , 13.5, 14. , 14.5, 15. , 15.5, 16. ,\n",
       "       16.5, 17. , 17.5, 18. , 18.5, 19. ])"
      ]
     },
     "execution_count": 10,
     "metadata": {},
     "output_type": "execute_result"
    }
   ],
   "source": [
    "x_grid = np.arange(x.min(),x.max()+.5,.5)\n",
    "x_grid"
   ]
  },
  {
   "cell_type": "code",
   "execution_count": 11,
   "metadata": {
    "ExecuteTime": {
     "end_time": "2020-04-10T00:27:38.667573Z",
     "start_time": "2020-04-10T00:27:17.976886Z"
    }
   },
   "outputs": [],
   "source": [
    "uci_in, uci_out, uci_active = simulate_bed_filling(x_grid,\n",
    "                                                   y_times_uci_in,\n",
    "                                                   y_times_uci_out,\n",
    "                                                   beds_max=MAX_BEDS_UCI,\n",
    "                                                   verbose=False,\n",
    "                                                   try_vectorize=False)"
   ]
  },
  {
   "cell_type": "code",
   "execution_count": 16,
   "metadata": {
    "ExecuteTime": {
     "end_time": "2020-04-10T00:29:36.832906Z",
     "start_time": "2020-04-10T00:29:36.801140Z"
    }
   },
   "outputs": [],
   "source": [
    "from covid_simulation.plot_utils import plot_prediction_with_uncertainty\n",
    "import datetime as dt\n",
    "import seaborn as sns\n",
    "import matplotlib.pyplot as plt"
   ]
  },
  {
   "cell_type": "code",
   "execution_count": 17,
   "metadata": {
    "ExecuteTime": {
     "end_time": "2020-04-10T00:35:38.002655Z",
     "start_time": "2020-04-10T00:35:37.721339Z"
    }
   },
   "outputs": [
    {
     "ename": "NameError",
     "evalue": "name 'day' is not defined",
     "output_type": "error",
     "traceback": [
      "\u001b[0;31m---------------------------------------------------------------------------\u001b[0m",
      "\u001b[0;31mNameError\u001b[0m                                 Traceback (most recent call last)",
      "\u001b[0;32m<ipython-input-17-49ef7aeb6b37>\u001b[0m in \u001b[0;36m<module>\u001b[0;34m\u001b[0m\n\u001b[1;32m      5\u001b[0m \u001b[0;34m\u001b[0m\u001b[0m\n\u001b[1;32m      6\u001b[0m \u001b[0mplt\u001b[0m\u001b[0;34m.\u001b[0m\u001b[0mfigure\u001b[0m\u001b[0;34m(\u001b[0m\u001b[0mdpi\u001b[0m\u001b[0;34m=\u001b[0m\u001b[0;36m100\u001b[0m\u001b[0;34m)\u001b[0m\u001b[0;34m\u001b[0m\u001b[0;34m\u001b[0m\u001b[0m\n\u001b[0;32m----> 7\u001b[0;31m \u001b[0mplot_prediction_with_uncertainty\u001b[0m\u001b[0;34m(\u001b[0m\u001b[0mx_grid\u001b[0m\u001b[0;34m,\u001b[0m\u001b[0mmedian\u001b[0m\u001b[0;34m,\u001b[0m\u001b[0mquan\u001b[0m\u001b[0;34m,\u001b[0m \u001b[0mfecha_inicio\u001b[0m\u001b[0;34m=\u001b[0m\u001b[0mday\u001b[0m\u001b[0;34m)\u001b[0m\u001b[0;34m\u001b[0m\u001b[0;34m\u001b[0m\u001b[0m\n\u001b[0m\u001b[1;32m      8\u001b[0m \u001b[0;34m\u001b[0m\u001b[0m\n\u001b[1;32m      9\u001b[0m \u001b[0;31m# plt.xlim(0,2)\u001b[0m\u001b[0;34m\u001b[0m\u001b[0;34m\u001b[0m\u001b[0;34m\u001b[0m\u001b[0m\n",
      "\u001b[0;31mNameError\u001b[0m: name 'day' is not defined"
     ]
    },
    {
     "data": {
      "text/plain": [
       "<Figure size 600x400 with 0 Axes>"
      ]
     },
     "metadata": {},
     "output_type": "display_data"
    }
   ],
   "source": [
    "sns.set_style('whitegrid')\n",
    "\n",
    "quan,median = get_quantiles(uci_in, axis=1)\n",
    "\n",
    "\n",
    "plt.figure(dpi=100)\n",
    "plot_prediction_with_uncertainty(x_grid,median,quan, fecha_inicio=day)\n",
    "\n",
    "# plt.xlim(0,2)"
   ]
  },
  {
   "cell_type": "code",
   "execution_count": null,
   "metadata": {},
   "outputs": [],
   "source": []
  }
 ],
 "metadata": {
  "kernelspec": {
   "display_name": "Python 3",
   "language": "python",
   "name": "python3"
  },
  "language_info": {
   "codemirror_mode": {
    "name": "ipython",
    "version": 3
   },
   "file_extension": ".py",
   "mimetype": "text/x-python",
   "name": "python",
   "nbconvert_exporter": "python",
   "pygments_lexer": "ipython3",
   "version": "3.8.2"
  },
  "toc": {
   "base_numbering": 1,
   "nav_menu": {},
   "number_sections": true,
   "sideBar": true,
   "skip_h1_title": true,
   "title_cell": "Table of Contents",
   "title_sidebar": "Contents",
   "toc_cell": true,
   "toc_position": {},
   "toc_section_display": true,
   "toc_window_display": false
  }
 },
 "nbformat": 4,
 "nbformat_minor": 4
}
